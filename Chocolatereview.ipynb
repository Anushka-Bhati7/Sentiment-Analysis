{
  "nbformat": 4,
  "nbformat_minor": 0,
  "metadata": {
    "colab": {
      "provenance": []
    },
    "kernelspec": {
      "name": "python3",
      "display_name": "Python 3"
    },
    "language_info": {
      "name": "python"
    }
  },
  "cells": [
    {
      "cell_type": "code",
      "execution_count": 15,
      "metadata": {
        "colab": {
          "base_uri": "https://localhost:8080/"
        },
        "id": "1v32gm-VHjLn",
        "outputId": "4de6a4e0-992f-4e0d-c394-bfce8fd2edae"
      },
      "outputs": [
        {
          "output_type": "stream",
          "name": "stdout",
          "text": [
            "Requirement already satisfied: scikit-learn in /usr/local/lib/python3.11/dist-packages (1.6.1)\n",
            "Requirement already satisfied: numpy>=1.19.5 in /usr/local/lib/python3.11/dist-packages (from scikit-learn) (2.0.2)\n",
            "Requirement already satisfied: scipy>=1.6.0 in /usr/local/lib/python3.11/dist-packages (from scikit-learn) (1.14.1)\n",
            "Requirement already satisfied: joblib>=1.2.0 in /usr/local/lib/python3.11/dist-packages (from scikit-learn) (1.4.2)\n",
            "Requirement already satisfied: threadpoolctl>=3.1.0 in /usr/local/lib/python3.11/dist-packages (from scikit-learn) (3.6.0)\n",
            "Classification Report:\n",
            "              precision    recall  f1-score   support\n",
            "\n",
            "    Negative       1.00      1.00      1.00         4\n",
            "     Neutral       1.00      1.00      1.00         2\n",
            "    Positive       1.00      1.00      1.00         6\n",
            "\n",
            "    accuracy                           1.00        12\n",
            "   macro avg       1.00      1.00      1.00        12\n",
            "weighted avg       1.00      1.00      1.00        12\n",
            "\n"
          ]
        }
      ],
      "source": [
        "!pip install scikit-learn\n",
        "# Import basic libraries\n",
        "import pandas as pd\n",
        "from sklearn.model_selection import train_test_split\n",
        "from sklearn.feature_extraction.text import CountVectorizer\n",
        "from sklearn.naive_bayes import MultinomialNB\n",
        "from sklearn.metrics import classification_report\n",
        "# Load the chocolate review data\n",
        "df = pd.read_csv(\"/chocolate_reviews.csv\")\n",
        "# Vectorize the text (convert to number)\n",
        "vectorize = CountVectorizer()\n",
        "x = vectorize.fit_transform(df['Review_Text'])\n",
        "y = df['Sentiment']\n",
        "# Split data for training and testing\n",
        "x_train, x_test, y_train, y_test = train_test_split(x, y, test_size=0.2, random_state=0 )\n",
        "# Train a simple Naive Bayes model\n",
        "model = MultinomialNB()\n",
        "model.fit(x_train, y_train)\n",
        "# Predict and show result\n",
        "y_pred = model.predict(x_train)\n",
        "print(\"Classification Report:\")\n",
        "print(classification_report(y_train, y_pred))\n",
        "\n"
      ]
    }
  ]
}